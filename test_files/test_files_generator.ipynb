{
 "cells": [
  {
   "cell_type": "code",
   "execution_count": 6,
   "id": "62a2a9b7-7c05-438a-a36d-3044527d843f",
   "metadata": {},
   "outputs": [],
   "source": [
    "import random\n",
    "import json\n",
    "from collections import defaultdict"
   ]
  },
  {
   "cell_type": "code",
   "execution_count": 7,
   "id": "a1f6d432-7f98-4ee1-8a4e-7b5beed18779",
   "metadata": {},
   "outputs": [],
   "source": [
    "def generate_dag(num_tasks):\n",
    "    tasks = [chr(65 + i) for i in range(num_tasks)]\n",
    "    #favorizacija leksikografskih resenja\n",
    "    random.shuffle(tasks)\n",
    "    edges = []\n",
    "    delays = {}\n",
    "    \n",
    "    # delays\n",
    "    for task in tasks:\n",
    "        delays[task] = random.randint(0, 5)\n",
    "    \n",
    "    #node moze imati grane ka svim narednim nodovima\n",
    "    for i in range(num_tasks - 1):\n",
    "        num_of_edges_from_node = random.randint(1, num_tasks - 1 - i)\n",
    "        nodes_to = random.sample(tasks[i+1:], num_of_edges_from_node)\n",
    "        for node in nodes_to:\n",
    "            edges.append((tasks[i], node))\n",
    "    \n",
    "    return tasks, edges, delays"
   ]
  },
  {
   "cell_type": "code",
   "execution_count": 8,
   "id": "2047d862-dba4-4fd2-a5b4-7a48884ad857",
   "metadata": {},
   "outputs": [],
   "source": [
    "def save_to_file(tasks, edges, delays, file_index, folder):\n",
    "    filename = f'{folder}/test_file_{file_index}.json'\n",
    "    data = {\n",
    "            'tasks': tasks,\n",
    "            'edges': edges,\n",
    "            'delays': delays\n",
    "    }\n",
    "\n",
    "    with open(filename, 'w') as file:\n",
    "        json.dump(data, file, indent=4)\n",
    "    print(f\"Data saved to {filename}\")"
   ]
  },
  {
   "cell_type": "code",
   "execution_count": 9,
   "id": "bae8f3a1-7729-4c8e-bd67-1ddaa3710a82",
   "metadata": {},
   "outputs": [
    {
     "name": "stdout",
     "output_type": "stream",
     "text": [
      "Data saved to small_data/test_file_5.json\n",
      "Data saved to small_data/test_file_6.json\n",
      "Data saved to small_data/test_file_7.json\n",
      "Data saved to small_data/test_file_8.json\n",
      "Data saved to small_data/test_file_9.json\n"
     ]
    }
   ],
   "source": [
    "for i in range(5,10):\n",
    "    tasks, edges, delays = generate_dag(i)\n",
    "    save_to_file(tasks, edges, delays, i, 'small_data')"
   ]
  },
  {
   "cell_type": "code",
   "execution_count": 10,
   "id": "a8ea564a-44ae-4573-ba80-001702e76c61",
   "metadata": {},
   "outputs": [
    {
     "name": "stdout",
     "output_type": "stream",
     "text": [
      "Data saved to big_data/test_file_20.json\n",
      "Data saved to big_data/test_file_21.json\n",
      "Data saved to big_data/test_file_22.json\n",
      "Data saved to big_data/test_file_23.json\n",
      "Data saved to big_data/test_file_24.json\n"
     ]
    }
   ],
   "source": [
    "for i in range(20,25):\n",
    "    tasks, edges, delays = generate_dag(i)\n",
    "    save_to_file(tasks, edges, delays, i, 'big_data')"
   ]
  }
 ],
 "metadata": {
  "kernelspec": {
   "display_name": "Python 3 (ipykernel)",
   "language": "python",
   "name": "python3"
  },
  "language_info": {
   "codemirror_mode": {
    "name": "ipython",
    "version": 3
   },
   "file_extension": ".py",
   "mimetype": "text/x-python",
   "name": "python",
   "nbconvert_exporter": "python",
   "pygments_lexer": "ipython3",
   "version": "3.11.6"
  }
 },
 "nbformat": 4,
 "nbformat_minor": 5
}
