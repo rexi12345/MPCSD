{
 "cells": [
  {
   "cell_type": "code",
   "execution_count": 17,
   "id": "62a2a9b7-7c05-438a-a36d-3044527d843f",
   "metadata": {},
   "outputs": [],
   "source": [
    "import random\n",
    "import json\n",
    "from collections import defaultdict"
   ]
  },
  {
   "cell_type": "code",
   "execution_count": 18,
   "id": "a1f6d432-7f98-4ee1-8a4e-7b5beed18779",
   "metadata": {},
   "outputs": [],
   "source": [
    "def generate_dag(num_tasks):\n",
    "    tasks = [chr(65 + i) for i in range(num_tasks)]  # Create tasks like ['A', 'B', 'C', ...]\n",
    "    edges = []\n",
    "    delays = {}\n",
    "    \n",
    "    # Assign random delays to tasks\n",
    "    for task in tasks:\n",
    "        delays[task] = random.randint(0, 5)\n",
    "    \n",
    "    # Generate edges while ensuring no cycles \n",
    "    for i in range(num_tasks):\n",
    "        for j in range(i + 1, num_tasks):\n",
    "            if random.choice([True, False]):\n",
    "                edges.append((tasks[i], tasks[j]))\n",
    "    \n",
    "    return tasks, edges, delays"
   ]
  },
  {
   "cell_type": "code",
   "execution_count": 19,
   "id": "2047d862-dba4-4fd2-a5b4-7a48884ad857",
   "metadata": {},
   "outputs": [],
   "source": [
    "def save_to_file(tasks, edges, delays, file_index):\n",
    "    filename = f'test_file_{file_index}.json'\n",
    "    data = {\n",
    "            'tasks': tasks,\n",
    "            'edges': edges,\n",
    "            'delays': delays\n",
    "    }\n",
    "\n",
    "    with open(filename, 'w') as file:\n",
    "        json.dump(data, file, indent=4)\n",
    "    print(f\"Data saved to {filename}\")"
   ]
  },
  {
   "cell_type": "code",
   "execution_count": 20,
   "id": "bae8f3a1-7729-4c8e-bd67-1ddaa3710a82",
   "metadata": {},
   "outputs": [
    {
     "name": "stdout",
     "output_type": "stream",
     "text": [
      "Data saved to test_file_5.json\n",
      "Data saved to test_file_6.json\n",
      "Data saved to test_file_7.json\n",
      "Data saved to test_file_8.json\n",
      "Data saved to test_file_9.json\n"
     ]
    }
   ],
   "source": [
    "for i in range(5,10):\n",
    "    tasks, edges, delays = generate_dag(i)\n",
    "    save_to_file(tasks, edges, delays, i)"
   ]
  },
  {
   "cell_type": "code",
   "execution_count": null,
   "id": "3a7e930e-853e-440e-8af3-821101ee7d1d",
   "metadata": {},
   "outputs": [],
   "source": []
  }
 ],
 "metadata": {
  "kernelspec": {
   "display_name": "Python 3 (ipykernel)",
   "language": "python",
   "name": "python3"
  },
  "language_info": {
   "codemirror_mode": {
    "name": "ipython",
    "version": 3
   },
   "file_extension": ".py",
   "mimetype": "text/x-python",
   "name": "python",
   "nbconvert_exporter": "python",
   "pygments_lexer": "ipython3",
   "version": "3.12.5"
  }
 },
 "nbformat": 4,
 "nbformat_minor": 5
}
